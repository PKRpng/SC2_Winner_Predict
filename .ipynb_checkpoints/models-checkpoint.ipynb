{
 "cells": [
  {
   "cell_type": "code",
   "execution_count": 2,
   "id": "378c019b-f0a7-435c-8625-9ab40197c77d",
   "metadata": {},
   "outputs": [],
   "source": [
    "import pandas as pd\n",
    "import xgboost as xgb\n",
    "import pickle\n",
    "\n",
    "from sklearn.impute import SimpleImputer\n",
    "from sklearn.preprocessing import OneHotEncoder\n",
    "from sklearn.model_selection import train_test_split\n",
    "from sklearn.metrics import accuracy_score\n",
    "from sklearn.model_selection import GridSearchCV\n",
    "from sklearn.metrics import roc_auc_score"
   ]
  },
  {
   "cell_type": "code",
   "execution_count": null,
   "id": "07cc8056-bfbb-47ef-ac20-df5d7c5379f1",
   "metadata": {},
   "outputs": [],
   "source": [
    "df = pd.read_csv('data')"
   ]
  },
  {
   "cell_type": "code",
   "execution_count": null,
   "id": "81d92459-304a-4742-9439-2d47e2b533ac",
   "metadata": {},
   "outputs": [],
   "source": [
    "df[['player_one_race', 'player_two_race', 'player_one', 'player_two', 'winner_name']].str.lower()\n",
    "\n",
    "df.drop(['Unnamed: 0', 'player_one_race', 'player_two_race', 'date', 'game_length', 'winner_name'], axis=1, inplace=True)\n",
    "\n",
    "#need to drop players that only have few games and maps with only a few games\n",
    "\n",
    "X = df.drop(\"p_one_winner\", axis=1)\n",
    "y = df.p_one_winner"
   ]
  },
  {
   "cell_type": "code",
   "execution_count": null,
   "id": "901db83d-32e4-47a3-9241-52470d1d182f",
   "metadata": {},
   "outputs": [],
   "source": [
    "enc = OneHotEncoder(handle_unknown='ignore')\n",
    "X = enc.fit_transform(X)\n",
    "\n",
    "X_train, X_test, y_train, y_test = train_test_split(X, y, stratify=y, random_state=1121218)"
   ]
  },
  {
   "cell_type": "code",
   "execution_count": null,
   "id": "0b066d03-a65d-4f6e-9461-dfa9bb99a05c",
   "metadata": {},
   "outputs": [],
   "source": [
    "xgb_cl = xgb.XGBClassifier()\n",
    "\n",
    "# Fit\n",
    "xgb_cl.fit(X_train, y_train)\n",
    "\n",
    "# Predict\n",
    "preds = xgb_cl.predict(X_test)\n",
    "\n",
    "# Score\n",
    "accuracy_score(y_test, preds)"
   ]
  },
  {
   "cell_type": "code",
   "execution_count": null,
   "id": "a4d6d683-9890-4662-b6c1-fd65ac6c322b",
   "metadata": {},
   "outputs": [],
   "source": [
    "param_grid = {\n",
    "    \"max_depth\": [3, 4, 5, 7],\n",
    "    \"learning_rate\": [0.1, 0.01, 0.05],\n",
    "    \"gamma\": [0, 0.25, 1],\n",
    "    \"reg_lambda\": [0, 1, 10],\n",
    "    \"scale_pos_weight\": [1, 3, 5],\n",
    "    \"subsample\": [0.8],\n",
    "    \"colsample_bytree\": [0.5],\n",
    "}\n",
    "\n",
    "# Init classifier\n",
    "xgb_cl = xgb.XGBClassifier(objective=\"binary:logistic\")\n",
    "\n",
    "# Init Grid Search\n",
    "grid_cv = GridSearchCV(xgb_cl, param_grid, n_jobs=-1, cv=3, scoring=\"roc_auc\")\n",
    "\n",
    "# Fit\n",
    "_ = grid_cv.fit(X, y)"
   ]
  },
  {
   "cell_type": "code",
   "execution_count": null,
   "id": "399d32a9-4860-4e10-8782-e597aef82669",
   "metadata": {},
   "outputs": [],
   "source": [
    "grid_cv.best_params_"
   ]
  },
  {
   "cell_type": "code",
   "execution_count": null,
   "id": "39f9b11c-a5c0-4b99-8025-0cab63daff6c",
   "metadata": {},
   "outputs": [],
   "source": [
    "final_cl = xgb.XGBClassifier(\n",
    "    **grid_cv.best_params_,\n",
    "    objective=\"binary:logistic\",\n",
    "    colsample_bytree=0.5,\n",
    "    subsample=0.8\n",
    ")"
   ]
  },
  {
   "cell_type": "code",
   "execution_count": null,
   "id": "7f861417-8986-402f-813a-8d6f4aeb503a",
   "metadata": {},
   "outputs": [],
   "source": [
    "_ = final_cl.fit(X_train, y_train)\n",
    "\n",
    "preds = final_cl.predict(X_test)"
   ]
  },
  {
   "cell_type": "code",
   "execution_count": null,
   "id": "094511f1-fe4c-419a-92c0-beff6d8e6ab7",
   "metadata": {},
   "outputs": [],
   "source": [
    "pickle_out = open(\"models/xgboost_model.pkl\", mode = \"wb\") \n",
    "pickle.dump(final_cl, pickle_out) \n",
    "pickle_out.close()"
   ]
  },
  {
   "cell_type": "code",
   "execution_count": null,
   "id": "0474b9c2-727e-42f6-ad47-ab422f5b6263",
   "metadata": {},
   "outputs": [],
   "source": [
    "date':date,\n",
    "                    'map_name':map_name, \n",
    "                    'player_one_race':player_one_race,\n",
    "                    'player_two_race':player_two_race,\n",
    "                    'player_one':player_one, \n",
    "                    'player_two':player_two, \n",
    "                    'game_length':game_length, \n",
    "                    'winner_name':winner_name,\n",
    "                    'p_one_winner':p_one_winner})"
   ]
  }
 ],
 "metadata": {
  "kernelspec": {
   "display_name": "Python 3",
   "language": "python",
   "name": "python3"
  },
  "language_info": {
   "codemirror_mode": {
    "name": "ipython",
    "version": 3
   },
   "file_extension": ".py",
   "mimetype": "text/x-python",
   "name": "python",
   "nbconvert_exporter": "python",
   "pygments_lexer": "ipython3",
   "version": "3.8.8"
  }
 },
 "nbformat": 4,
 "nbformat_minor": 5
}
